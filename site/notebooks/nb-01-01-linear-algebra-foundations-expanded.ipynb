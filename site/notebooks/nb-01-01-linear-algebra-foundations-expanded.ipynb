{
 "cells": [
  {
   "cell_type": "markdown",
   "id": "699607db",
   "metadata": {},
   "source": [
    "\n",
    "# Linear Algebra Foundations for Quantum Computing — Chapter 1\n",
    "\n",
    "Quantum computing is built on the language of linear algebra. Every quantum state, transformation, \n",
    "and measurement can be described using vectors, matrices, and specific algebraic operations. \n",
    "\n",
    "In this notebook, we review the key concepts of linear algebra and explain how they form the \n",
    "foundation for quantum mechanics and quantum information. For each idea, we will also see how \n",
    "to implement the operations in Python using `numpy`, so that the mathematics can be both \n",
    "visualized and practiced computationally.\n"
   ]
  },
  {
   "cell_type": "code",
   "execution_count": null,
   "id": "d52bb644",
   "metadata": {},
   "outputs": [],
   "source": [
    "import numpy as np\n",
    "np.set_printoptions(precision=4, suppress=True)"
   ]
  },
  {
   "cell_type": "markdown",
   "id": "7e445cdf",
   "metadata": {},
   "source": [
    "\n",
    "## Vectors\n",
    "\n",
    "A **vector** is one of the most fundamental mathematical objects we will encounter. \n",
    "In quantum computing, a vector represents the **state of a quantum system**. \n",
    "\n",
    "- For a qubit, this state is written as a column vector in a two-dimensional complex vector space.  \n",
    "  The “zero” state of a qubit is represented as the vector {math}`[1, 0]^T`, and the “one” state \n",
    "  as {math}`[0, 1]^T`. \n",
    "- More generally, a quantum state can be a linear combination of these basis states, such as \n",
    "  {math}`\\alpha|0\\rangle + \\beta|1\\rangle`, which is simply a vector with complex entries.  \n",
    "\n",
    "The length, or **norm**, of a vector plays a critical role in quantum mechanics. The squared \n",
    "magnitudes of the vector entries represent **probabilities**, which must always sum to 1. For \n",
    "this reason, all valid quantum states are **normalized vectors** with unit length. Normalization \n",
    "ensures that when a measurement is performed, the total probability of all possible outcomes is \n",
    "exactly one.  \n",
    "\n",
    "Vectors also provide a geometric picture of quantum states. In the case of a single qubit, \n",
    "we can think of the vector as pointing in some direction in two-dimensional space (or \n",
    "equivalently on the surface of the Bloch sphere). For higher-dimensional systems, this \n",
    "geometric picture becomes abstract, but the idea that vectors encode the “configuration” \n",
    "of the system remains the same.\n"
   ]
  },
  {
   "cell_type": "code",
   "execution_count": null,
   "id": "82e29645",
   "metadata": {},
   "outputs": [],
   "source": [
    "\n",
    "x = np.array([3, 4], dtype=float)\n",
    "print(\"x =\", x)\n",
    "print(\"Norm of x =\", np.linalg.norm(x))\n",
    "print(\"Normalized x =\", x/np.linalg.norm(x))\n"
   ]
  },
  {
   "cell_type": "markdown",
   "id": "02c6543d",
   "metadata": {},
   "source": [
    "\n",
    "## Complex Numbers and Conjugation\n",
    "\n",
    "Unlike classical probabilities, quantum amplitudes are expressed as **complex numbers**. \n",
    "A complex number has both a real part and an imaginary part, and can be written as \n",
    "{math}`z = a + ib`. \n",
    "\n",
    "- The **magnitude** or modulus {math}`|z|` tells us the length of this number in the complex plane.  \n",
    "- The **angle** (or phase) encodes additional information that has no classical counterpart.  \n",
    "- The **complex conjugate** flips the sign of the imaginary part, and the conjugate transpose \n",
    "  (Hermitian adjoint) is crucial in quantum mechanics because it ensures probabilities are \n",
    "  always non-negative.  \n",
    "\n",
    "The reason complex numbers are essential is that they allow **interference**. When two amplitudes \n",
    "with phases interact, they can cancel or reinforce each other. This is what makes phenomena like \n",
    "the double-slit experiment possible, and it is what gives quantum computing its unique power.\n"
   ]
  },
  {
   "cell_type": "code",
   "execution_count": null,
   "id": "e71a28e0",
   "metadata": {},
   "outputs": [],
   "source": [
    "z = 3 + 4j\n",
    "print('|z| =', abs(z), 'conjugate =', np.conj(z))"
   ]
  },
  {
   "cell_type": "markdown",
   "id": "1d1490b0",
   "metadata": {},
   "source": [
    "\n",
    "## Inner Product (Dot Product)\n",
    "\n",
    "The dot product of two vectors, also known as the **inner product**, measures the degree of \n",
    "“overlap” between them. In Euclidean geometry, the dot product tells us whether two vectors are \n",
    "perpendicular, and how much one vector points in the direction of another. \n",
    "\n",
    "In quantum mechanics, the inner product of two states {math}`|u\\rangle` and {math}`|v\\rangle` \n",
    "is written {math}`\\langle u, v \\rangle`.  \n",
    "\n",
    "- If the result is zero, the states are **orthogonal**, meaning that they represent mutually \n",
    "  exclusive outcomes.  \n",
    "- More generally, the probability of finding a system prepared in state {math}`|v\\rangle` \n",
    "  when measured in the basis that includes {math}`|u\\rangle` is proportional to \n",
    "  {math}`|\\langle u, v \\rangle|^2`.  \n",
    "\n",
    "This makes the dot product one of the most important tools in quantum mechanics. \n",
    "It is the bridge between abstract vector states and physical probabilities that \n",
    "can be observed in the laboratory.\n"
   ]
  },
  {
   "cell_type": "code",
   "execution_count": null,
   "id": "43ffc98e",
   "metadata": {},
   "outputs": [],
   "source": [
    "\n",
    "u = np.array([1, 1j])\n",
    "v = np.array([1, -1j])\n",
    "print(\"<u,v> =\", np.vdot(u,v))\n"
   ]
  },
  {
   "cell_type": "markdown",
   "id": "d88095f6",
   "metadata": {},
   "source": [
    "\n",
    "## Matrices\n",
    "\n",
    "Matrices represent **linear transformations**, and in quantum computing, they describe how \n",
    "quantum states evolve or how they are manipulated by gates. \n",
    "\n",
    "- **Hermitian matrices** are equal to their own conjugate transpose. In quantum mechanics, \n",
    "  Hermitian matrices represent **observables** — physical quantities like energy, spin, \n",
    "  or position. Their eigenvalues correspond to the possible results of a measurement.  \n",
    "\n",
    "- **Unitary matrices** satisfy {math}`U^\\dagger U = I`. These matrices preserve vector \n",
    "  length (and therefore probability) and represent **valid quantum evolutions**. Every \n",
    "  quantum gate is described by a unitary matrix.  \n",
    "\n",
    "The special properties of these matrices ensure that quantum mechanics is both \n",
    "mathematically consistent and physically meaningful.\n"
   ]
  },
  {
   "cell_type": "code",
   "execution_count": null,
   "id": "845ffaba",
   "metadata": {},
   "outputs": [],
   "source": [
    "\n",
    "H = (1/np.sqrt(2))*np.array([[1,1],[1,-1]])\n",
    "print(\"Hadamard gate H:\\n\", H)\n",
    "print(\"Check H^†H = I:\", np.allclose(H.conj().T @ H, np.eye(2)))\n"
   ]
  },
  {
   "cell_type": "markdown",
   "id": "44f90777",
   "metadata": {},
   "source": [
    "\n",
    "## Tensor Product\n",
    "\n",
    "One of the most striking differences between classical and quantum systems is how they combine. \n",
    "Classically, two systems are described by pairing their states. In quantum mechanics, we use the \n",
    "**tensor product**. \n",
    "\n",
    "- If one system is described by a vector of dimension {math}`m` and another by a vector of \n",
    "  dimension {math}`n`, the joint system lives in a space of dimension {math}`mn`.  \n",
    "- A single qubit is described by a 2-dimensional vector. Two qubits together require a \n",
    "  4-dimensional vector, and three qubits require 8 dimensions.  \n",
    "\n",
    "This exponential growth is one reason quantum computing is so powerful: the state space grows \n",
    "extremely quickly with the number of qubits.  \n",
    "\n",
    "Tensor products are also the source of **entanglement**, one of the most profound quantum \n",
    "phenomena. An entangled state cannot be written as a simple tensor product of two smaller states. \n",
    "This property has no classical analogue and is the basis for quantum communication and \n",
    "quantum cryptography.\n"
   ]
  },
  {
   "cell_type": "code",
   "execution_count": null,
   "id": "1c54e7d5",
   "metadata": {},
   "outputs": [],
   "source": [
    "\n",
    "zero = np.array([1,0])\n",
    "one = np.array([0,1])\n",
    "print(\"|0>⊗|1> =\", np.kron(zero,one))\n"
   ]
  },
  {
   "cell_type": "markdown",
   "id": "95fb491f",
   "metadata": {},
   "source": [
    "\n",
    "## Unitarity\n",
    "\n",
    "A central principle of quantum mechanics is that **probability is conserved**. When a quantum \n",
    "state evolves over time or is manipulated by gates, the total probability of all outcomes \n",
    "must remain equal to one.  \n",
    "\n",
    "This requirement is exactly captured by **unitary matrices**. A unitary transformation is \n",
    "essentially a rotation in a high-dimensional complex vector space. It changes the direction \n",
    "of the state vector but never its length.  \n",
    "\n",
    "This is why every valid quantum gate, from the Hadamard gate to the more complex controlled-NOT \n",
    "gate, is represented by a unitary matrix. Without unitarity, the mathematical structure of \n",
    "quantum mechanics would not correspond to the physical reality of conserved probability.\n"
   ]
  },
  {
   "cell_type": "code",
   "execution_count": null,
   "id": "a36dece1",
   "metadata": {},
   "outputs": [],
   "source": [
    "\n",
    "X = np.array([[0,1],[1,0]],dtype=complex)\n",
    "print(\"X gate:\\n\", X)\n",
    "print(\"Unitary check:\", np.allclose(X.conj().T @ X, np.eye(2)))\n"
   ]
  },
  {
   "cell_type": "markdown",
   "id": "00c0e352",
   "metadata": {},
   "source": [
    "\n",
    "## Exercises\n",
    "\n",
    "1. Normalize the vector {math}`w = (3, 4i)` and verify its norm is 1.  \n",
    "2. Show that {math}`a = (1, i)` and {math}`b = (1, -i)` are orthogonal by computing their inner product.  \n",
    "3. Construct the projector onto {math}`u = \\frac{1}{\\sqrt{2}}(1, 1)` and apply it to the vector {math}`x = (2, 1)`.  \n",
    "4. Compute the tensor product {math}`|0\\rangle \\otimes |1\\rangle`. Which basis vector of the two-qubit system does this correspond to?  \n",
    "5. Verify that the Pauli-X matrix {math}`\\begin{bmatrix}0&1\\\\1&0\\end{bmatrix}` is unitary.\n"
   ]
  }
 ],
 "metadata": {},
 "nbformat": 4,
 "nbformat_minor": 5
}
