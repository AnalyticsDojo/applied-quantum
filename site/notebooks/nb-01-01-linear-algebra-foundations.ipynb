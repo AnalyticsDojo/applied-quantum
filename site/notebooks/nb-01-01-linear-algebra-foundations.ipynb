{
 "cells": [
  {
   "cell_type": "markdown",
   "id": "ebdc3566",
   "metadata": {},
   "source": [
    "[![AnalyticsDojo](https://github.com/AnalyticsDojo/applied-quantum/blob/main/static/final-logo.png?raw=1)](http://quantum.analyticsdojo.com)\n",
    "<center><h1>Linear Algebra Foundations for Quantum Computing </h1></center>\n",
    "<center><h3><a href = 'http://quantum.analyticsdojo.com'>quantum.analyticsdojo.com</a></h3></center>\n"
   ]
  },
  {
   "cell_type": "markdown",
   "id": "2f855bad",
   "metadata": {},
   "source": [
    "\n",
    "# Linear Algebra Foundations for Quantum Computing \n",
    "\n",
    "This notebook introduces the **linear algebra** you need for quantum computing.\n",
    "Each concept is explained briefly and **immediately demonstrated in Python** using `numpy`.\n"
   ]
  },
  {
   "cell_type": "markdown",
   "id": "6987520f",
   "metadata": {},
   "source": [
    "\n",
    "## 1. Motivation & Notation\n",
    "\n",
    "Quantum states live in **complex vector spaces** and evolve by **linear (unitary) maps**.  \n",
    "To work effectively, we need fluency with **vectors, matrices, inner products**, and the **tensor product**.\n",
    "\n",
    "**Notations you'll see**\n",
    "- Array notation (Python / math): vectors as column arrays, matrices as 2D arrays.  \n",
    "- Dirac notation: \\(|v\\rangle\\) for a column vector (\"ket\"), and \\(\\langle v|\\) for its conjugate transpose (\"bra\").  \n",
    "- We’ll use standard Python arrays, with the understanding that a column vector \\(|v\\rangle\\) is represented as shape `(n, 1)` or a 1-D array of length `n`.\n"
   ]
  },
  {
   "cell_type": "code",
   "execution_count": 1,
   "id": "46b6bcba",
   "metadata": {},
   "outputs": [],
   "source": [
    "\n",
    "import numpy as np\n",
    "\n",
    "# Pretty-printing\n",
    "np.set_printoptions(precision=4, suppress=True)\n"
   ]
  },
  {
   "cell_type": "markdown",
   "id": "98868a43",
   "metadata": {},
   "source": [
    "\n",
    "## 2. Vectors\n",
    "\n",
    "A **vector** is an ordered list of numbers (often complex) arranged in a column.  \n",
    "The **dimension** of a vector space is the length of the coordinate list relative to a basis.\n",
    "\n",
    "- Standard basis of \\(\\mathbb{C}^n\\): \\(e_1, \\dots, e_n\\) where \\(e_i\\) has a 1 in position \\(i\\) and 0 elsewhere.  \n",
    "- The **norm** (length) of \\(x\\) is \\(\\|x\\|_2 = \\sqrt{\\sum_i |x_i|^2}\\).  \n",
    "- A **unit vector** has norm 1; **normalization** rescales \\(x\\) to \\(x/\\|x\\|\\) (if \\(x \\neq 0\\)).\n",
    "\n",
    "> **Textbook tip:** In quantum, we typically normalize state vectors to unit length so that total probability is 1.\n"
   ]
  },
  {
   "cell_type": "code",
   "execution_count": 2,
   "id": "43afa852",
   "metadata": {},
   "outputs": [
    {
     "name": "stdout",
     "output_type": "stream",
     "text": [
      "x = [3. 4.]  shape: (2,)\n",
      "x as column:\n",
      " [[3.]\n",
      " [4.]]  shape: (2, 1)\n",
      "||x||2 = 5.0\n",
      "Basis e1, e2 -> [1. 0.] [0. 1.]\n",
      "Normalized x: [0.6 0.8] ||x_unit||2 = 1.0\n"
     ]
    }
   ],
   "source": [
    "\n",
    "# Create vectors (1-D) and column vectors (2-D shape n x 1)\n",
    "x = np.array([3, 4], dtype=float)              # 1-D vector in R^2\n",
    "x_col = x.reshape(-1, 1)                        # column form (2,1)\n",
    "e1 = np.array([1, 0], dtype=float)\n",
    "e2 = np.array([0, 1], dtype=float)\n",
    "\n",
    "def l2_norm(v):\n",
    "    v = np.asarray(v).reshape(-1)\n",
    "    return np.sqrt(np.vdot(v, v))  # vdot conjugates the first arg (safe for complex)\n",
    "\n",
    "print(\"x =\", x, \" shape:\", x.shape)\n",
    "print(\"x as column:\\n\", x_col, \" shape:\", x_col.shape)\n",
    "print(\"||x||2 =\", l2_norm(x))\n",
    "print(\"Basis e1, e2 ->\", e1, e2)\n",
    "\n",
    "# Normalize x\n",
    "x_unit = x / l2_norm(x)\n",
    "print(\"Normalized x:\", x_unit, \"||x_unit||2 =\", l2_norm(x_unit))\n"
   ]
  },
  {
   "cell_type": "markdown",
   "id": "43c8771c",
   "metadata": {},
   "source": [
    "\n",
    "## 3. Complex Numbers & Conjugation\n",
    "\n",
    "Quantum amplitudes are complex. For \\(z = a + ib\\):\n",
    "- **Conjugate**: \\(\\overline{z} = a - ib\\)\n",
    "- **Modulus**: \\(|z| = \\sqrt{a^2 + b^2}\\)\n",
    "- **Euler**: \\(re^{i\\theta} = r(\\cos\\theta + i\\sin\\theta)\\)\n",
    "\n",
    "For vectors/matrices, the **conjugate transpose** (Hermitian adjoint) is denoted by \\((\\cdot)^\\dagger\\).\n"
   ]
  },
  {
   "cell_type": "code",
   "execution_count": 3,
   "id": "484cd829",
   "metadata": {},
   "outputs": [
    {
     "name": "stdout",
     "output_type": "stream",
     "text": [
      "z = (3+4j) conjugate: (3-4j) |z| = 5.0\n",
      "v = [1.+2.j 2.-1.j]\n",
      "v* (elementwise conj) = [1.-2.j 2.+1.j]\n",
      "v^† (as a row) = [[1.-2.j 2.+1.j]]\n"
     ]
    }
   ],
   "source": [
    "\n",
    "z = 3 + 4j\n",
    "print(\"z =\", z, \"conjugate:\", np.conj(z), \"|z| =\", np.abs(z))\n",
    "\n",
    "# Complex vector\n",
    "v = np.array([1+2j, 2-1j], dtype=complex)\n",
    "print(\"v =\", v)\n",
    "print(\"v* (elementwise conj) =\", v.conj())\n",
    "print(\"v^† (as a row) =\", v.conj().reshape(1,-1))  # bra\n"
   ]
  },
  {
   "cell_type": "markdown",
   "id": "71143e2d",
   "metadata": {},
   "source": [
    "\n",
    "## 4. Vector Dot (Inner) Product\n",
    "\n",
    "For \\(u, v \\in \\mathbb{C}^n\\), the inner product is\n",
    "\\[\\langle u, v\\rangle = \\sum_i \\overline{u_i} v_i.\\]\n",
    "\n",
    "Properties:\n",
    "- Conjugate symmetry: \\(\\langle u, v\\rangle = \\overline{\\langle v, u\\rangle}\\)\n",
    "- Linearity in second argument\n",
    "- \\(\\langle v, v\\rangle = \\|v\\|^2 \\ge 0\\), and equals 0 iff \\(v = 0\\)\n",
    "- **Orthogonality**: \\(\\langle u, v\\rangle = 0\\)\n",
    "\n",
    "**Python tips**\n",
    "- `np.vdot(u, v)` computes \\(\\overline{u}^\\top v\\) (conjugates the first argument).\n",
    "- `u @ v` for 1-D arrays computes the Euclidean dot without conjugation; for complex vectors, prefer `np.vdot`.\n"
   ]
  },
  {
   "cell_type": "code",
   "execution_count": 4,
   "id": "cd3bda88",
   "metadata": {},
   "outputs": [
    {
     "name": "stdout",
     "output_type": "stream",
     "text": [
      "u = [1.+1.j 0.-1.j]\n",
      "v = [2.-1.j 3.+0.j]\n",
      "<u, v> via vdot = (1+0j)\n",
      "<v, u> via vdot = (1+0j)  (conjugate of previous)\n",
      "||u||^2 = 3.0\n",
      "Orthogonality check <u, [i*u]> : 3j\n"
     ]
    }
   ],
   "source": [
    "\n",
    "u = np.array([1+1j, 0-1j], dtype=complex)\n",
    "v = np.array([2-1j, 3+0j], dtype=complex)\n",
    "\n",
    "print(\"u =\", u)\n",
    "print(\"v =\", v)\n",
    "print(\"<u, v> via vdot =\", np.vdot(u, v))\n",
    "print(\"<v, u> via vdot =\", np.vdot(v, u), \" (conjugate of previous)\")\n",
    "print(\"||u||^2 =\", np.vdot(u,u).real)\n",
    "print(\"Orthogonality check <u, [i*u]> :\", np.vdot(u, 1j*u))  # equals i * ||u||^2, not orthogonal\n"
   ]
  },
  {
   "cell_type": "markdown",
   "id": "6539d5eb",
   "metadata": {},
   "source": [
    "\n",
    "## 5. Matrices\n",
    "\n",
    "A **matrix** represents a linear map. Key notions:\n",
    "- **Identity** \\(I\\) satisfies \\(I x = x\\).\n",
    "- **Transpose** \\(A^\\top\\), **conjugate** \\( \\overline{A}\\), and **conjugate transpose** (Hermitian adjoint) \\(A^\\dagger = \\overline{A}^\\top\\).\n",
    "- **Hermitian**: \\(A = A^\\dagger\\).\n",
    "- **Unitary**: \\(U^\\dagger U = I\\) (length-preserving).\n",
    "\n",
    "We'll construct examples and compute with them in Python.\n"
   ]
  },
  {
   "cell_type": "code",
   "execution_count": 5,
   "id": "174687a8",
   "metadata": {},
   "outputs": [
    {
     "name": "stdout",
     "output_type": "stream",
     "text": [
      "A =\n",
      " [[1. 2.]\n",
      " [3. 4.]]\n",
      "A^T =\n",
      " [[1. 3.]\n",
      " [2. 4.]]\n",
      "B =\n",
      " [[ 0.+0.j -0.-1.j]\n",
      " [ 0.+1.j  0.+0.j]]\n",
      "B^† =\n",
      " [[ 0.-0.j  0.-1.j]\n",
      " [-0.+1.j  0.-0.j]]\n",
      "H Hermitian? -> True\n",
      "H2 unitary? -> True\n"
     ]
    }
   ],
   "source": [
    "\n",
    "A = np.array([[1, 2], [3, 4]], dtype=float)\n",
    "B = np.array([[0, -1j], [1j, 0]], dtype=complex)  # skew-Hermitian example\n",
    "\n",
    "I = np.eye(2)\n",
    "print(\"A =\\n\", A)\n",
    "print(\"A^T =\\n\", A.T)\n",
    "\n",
    "print(\"B =\\n\", B)\n",
    "print(\"B^† =\\n\", B.conj().T)\n",
    "\n",
    "# Hermitian example\n",
    "H = np.array([[2, 1-1j],[1+1j, 3]], dtype=complex)\n",
    "print(\"H Hermitian? ->\", np.allclose(H, H.conj().T))\n",
    "\n",
    "# Unitary example: 2x2 Hadamard (scaled)\n",
    "H2 = (1/np.sqrt(2)) * np.array([[1, 1],[1, -1]], dtype=float)\n",
    "print(\"H2 unitary? ->\", np.allclose(H2.conj().T @ H2, np.eye(2)))\n"
   ]
  },
  {
   "cell_type": "markdown",
   "id": "52637abb",
   "metadata": {},
   "source": [
    "\n",
    "## 6. Matrix–Vector & Matrix–Matrix Products\n",
    "\n",
    "- **Matrix–vector**: \\(y = A x\\) applies a linear map to a vector.  \n",
    "- **Matrix–matrix**: \\(C = AB\\) composes linear maps (first \\(B\\), then \\(A\\)).  \n",
    "- **Associativity** holds: \\(A(Bx) = (AB)x\\); **order matters** (in general \\(AB \\ne BA\\)).\n"
   ]
  },
  {
   "cell_type": "code",
   "execution_count": 6,
   "id": "f2378b34",
   "metadata": {},
   "outputs": [
    {
     "name": "stdout",
     "output_type": "stream",
     "text": [
      "A =\n",
      " [[2. 0.]\n",
      " [0. 3.]]\n",
      "x = [ 1. -2.]\n",
      "A @ x = [ 2. -6.]\n",
      "AB =\n",
      " [[0. 2.]\n",
      " [3. 0.]]\n",
      "BA =\n",
      " [[0. 3.]\n",
      " [2. 0.]]\n",
      "AB == BA ? False\n"
     ]
    }
   ],
   "source": [
    "\n",
    "A = np.array([[2, 0],[0, 3]], dtype=float)  # scales x and y components\n",
    "x = np.array([1, -2], dtype=float)\n",
    "\n",
    "y = A @ x\n",
    "print(\"A =\\n\", A)\n",
    "print(\"x =\", x)\n",
    "print(\"A @ x =\", y)\n",
    "\n",
    "B = np.array([[0, 1],[1, 0]], dtype=float)   # swap matrix\n",
    "print(\"AB =\\n\", A @ B)\n",
    "print(\"BA =\\n\", B @ A)\n",
    "print(\"AB == BA ?\", np.allclose(A@B, B@A))   # generally False\n"
   ]
  },
  {
   "cell_type": "markdown",
   "id": "3eec8bec",
   "metadata": {},
   "source": [
    "\n",
    "## 7. Matrix “Dot Product” (Frobenius / Hilbert–Schmidt)\n",
    "\n",
    "The natural inner product on matrices is\n",
    "\\[\\langle A, B\\rangle_F = \\mathrm{Tr}\\!\\left(A^\\dagger B\\right) = \\sum_{i,j} \\overline{A_{ij}} B_{ij}.\\]\n",
    "\n",
    "This induces the **Frobenius norm** \\(\\|A\\|_F = \\sqrt{\\langle A, A\\rangle_F}\\).  \n",
    "It generalizes vector dot products and is ubiquitous in quantum (e.g., overlaps, distances).\n",
    "\n",
    "> **Python tip:** `np.vdot(A, B)` flattens and conjugates the first argument, effectively computing the same sum as \\(\\sum \\overline{A_{ij}} B_{ij}\\).\n"
   ]
  },
  {
   "cell_type": "code",
   "execution_count": 7,
   "id": "a8541d40",
   "metadata": {},
   "outputs": [
    {
     "name": "stdout",
     "output_type": "stream",
     "text": [
      "<A,B>_F via vdot: (15-12j)\n",
      "<A,B>_F via trace: (15-12j)\n",
      "Equal? -> True\n",
      "||A||_F = 4.47213595499958\n"
     ]
    }
   ],
   "source": [
    "\n",
    "A = np.array([[1+1j, 2-1j],[0+2j, 3]], dtype=complex)\n",
    "B = np.array([[2, 0-1j],[1+0j, 4-2j]], dtype=complex)\n",
    "\n",
    "fro_vdot = np.vdot(A, B)                         # sum(conj(A)*B) over all entries\n",
    "fro_trace = np.trace(A.conj().T @ B)             # Tr(A^† B)\n",
    "\n",
    "print(\"<A,B>_F via vdot:\", fro_vdot)\n",
    "print(\"<A,B>_F via trace:\", fro_trace)\n",
    "print(\"Equal? ->\", np.allclose(fro_vdot, fro_trace))\n",
    "\n",
    "fro_norm = np.sqrt(np.vdot(A, A).real)\n",
    "print(\"||A||_F =\", fro_norm)\n"
   ]
  },
  {
   "cell_type": "markdown",
   "id": "5da35ae0",
   "metadata": {},
   "source": [
    "\n",
    "## 8. Orthonormal Bases & Projections\n",
    "\n",
    "A set \\(\\{u_i\\}\\) is **orthonormal** if \\(\\langle u_i, u_j\\rangle = \\delta_{ij}\\).  \n",
    "The **projection** onto a unit vector \\(u\\) is \\(P = u u^\\dagger\\), and \\(Px\\) is the component of \\(x\\) along \\(u\\).\n",
    "\n",
    "> **Quantum link:** Projectors model ideal measurements onto subspaces.\n"
   ]
  },
  {
   "cell_type": "code",
   "execution_count": 8,
   "id": "607106e1",
   "metadata": {},
   "outputs": [
    {
     "name": "stdout",
     "output_type": "stream",
     "text": [
      "<u,u> = 0.9999999999999998\n",
      "<v,v> = 0.9999999999999998\n",
      "<u,v> = 0.0\n",
      "x = [2. 1.]\n",
      "Projection matrix P = u u^T =\n",
      " [[0.5 0.5]\n",
      " [0.5 0.5]]\n",
      "Projected Px = [1.5 1.5]\n"
     ]
    }
   ],
   "source": [
    "\n",
    "# Build an orthonormal pair in R^2 (Hadamard columns are orthonormal)\n",
    "u = (1/np.sqrt(2)) * np.array([1, 1], dtype=float)\n",
    "v = (1/np.sqrt(2)) * np.array([1,-1], dtype=float)\n",
    "\n",
    "print(\"<u,u> =\", np.vdot(u,u))\n",
    "print(\"<v,v> =\", np.vdot(v,v))\n",
    "print(\"<u,v> =\", np.vdot(u,v))\n",
    "\n",
    "# Projection of x onto u\n",
    "x = np.array([2.0, 1.0])\n",
    "P = np.outer(u, u)    # u u^T because u is real; for complex use u[:,None] @ u[None,:].conj()\n",
    "Px = P @ x\n",
    "\n",
    "print(\"x =\", x)\n",
    "print(\"Projection matrix P = u u^T =\\n\", P)\n",
    "print(\"Projected Px =\", Px)\n"
   ]
  },
  {
   "cell_type": "markdown",
   "id": "24cf2239",
   "metadata": {},
   "source": [
    "\n",
    "## 9. Tensor (Kronecker) Product\n",
    "\n",
    "The **tensor product** builds a composite space:  \n",
    "If \\(x \\in \\mathbb{C}^{m}\\) and \\(y \\in \\mathbb{C}^{n}\\), then \\(x \\otimes y \\in \\mathbb{C}^{mn}\\).  \n",
    "In quantum, this combines subsystems (e.g., two qubits).\n",
    "\n",
    "- For vectors: basis ordering \\(|i\\rangle \\otimes |j\\rangle = |ij\\rangle\\).  \n",
    "- For matrices: \\((A \\otimes B)(x \\otimes y) = (Ax) \\otimes (By)\\).\n"
   ]
  },
  {
   "cell_type": "code",
   "execution_count": 9,
   "id": "296815a2",
   "metadata": {},
   "outputs": [
    {
     "name": "stdout",
     "output_type": "stream",
     "text": [
      "x = [1. 2.]\n",
      "y = [3. 4.]\n",
      "x ⊗ y = [3. 4. 6. 8.]  shape: (4,)\n",
      "H ⊗ I =\n",
      " [[ 0.7071  0.      0.7071  0.    ]\n",
      " [ 0.      0.7071  0.      0.7071]\n",
      " [ 0.7071  0.     -0.7071 -0.    ]\n",
      " [ 0.      0.7071 -0.     -0.7071]]\n",
      "LHS == RHS ? True\n"
     ]
    }
   ],
   "source": [
    "\n",
    "# Vector tensor product\n",
    "x = np.array([1, 2], dtype=float)\n",
    "y = np.array([3, 4], dtype=float)\n",
    "x_otimes_y = np.kron(x, y)\n",
    "print(\"x =\", x)\n",
    "print(\"y =\", y)\n",
    "print(\"x ⊗ y =\", x_otimes_y, \" shape:\", x_otimes_y.shape)\n",
    "\n",
    "# Matrix tensor product (useful for multi-qubit gates)\n",
    "H = (1/np.sqrt(2))*np.array([[1,1],[1,-1]], dtype=float)  # Hadamard\n",
    "I = np.eye(2)\n",
    "H2 = np.kron(H, I)  # Apply H to first qubit, identity to second\n",
    "print(\"H ⊗ I =\\n\", H2)\n",
    "\n",
    "# Check (A⊗B)(x⊗y) = (Ax)⊗(By)\n",
    "A = np.array([[0,1],[1,0]], dtype=float)  # X gate\n",
    "B = np.array([[1,0],[0,1]], dtype=float)  # I\n",
    "lhs = np.kron(A,B) @ np.kron([1,0],[1,0])  # (A⊗B)(|0>⊗|0>)\n",
    "rhs = np.kron(A @ np.array([1,0]), B @ np.array([1,0]))\n",
    "print(\"LHS == RHS ?\", np.allclose(lhs, rhs))\n"
   ]
  },
  {
   "cell_type": "markdown",
   "id": "a0870a1c",
   "metadata": {},
   "source": [
    "\n",
    "## 10. Unitarity & Norm Preservation\n",
    "\n",
    "Unitary matrices preserve inner products and norms: \\(\\|Ux\\| = \\|x\\|\\).  \n",
    "This is essential in quantum mechanics for probability conservation.\n"
   ]
  },
  {
   "cell_type": "code",
   "execution_count": 10,
   "id": "5875ccbf",
   "metadata": {},
   "outputs": [
    {
     "name": "stdout",
     "output_type": "stream",
     "text": [
      "Is U unitary? True\n",
      "||x|| = (2.6457513110645907+0j)\n",
      "||Ux|| = (2.6457513110645903+0j)\n"
     ]
    }
   ],
   "source": [
    "\n",
    "def is_unitary(U, tol=1e-10):\n",
    "    return np.allclose(U.conj().T @ U, np.eye(U.shape[0]), atol=tol)\n",
    "\n",
    "U = (1/np.sqrt(2))*np.array([[1,1],[1,-1]], dtype=complex)  # Hadamard\n",
    "x = np.array([1+1j, 2-1j], dtype=complex)\n",
    "\n",
    "print(\"Is U unitary?\", is_unitary(U))\n",
    "print(\"||x|| =\", np.sqrt(np.vdot(x,x)))\n",
    "print(\"||Ux|| =\", np.sqrt(np.vdot(U@x, U@x)))\n"
   ]
  },
  {
   "cell_type": "markdown",
   "id": "aac9d41e",
   "metadata": {},
   "source": [
    "\n",
    "## 11. Mini-Exercises (with solutions below)\n",
    "\n",
    "1. **Normalize** \\(w = (3, 4i)\\) and verify its \\(\\ell_2\\) norm is 1.  \n",
    "2. For \\(a=(1, i)\\) and \\(b=(1, -i)\\), compute \\(\\langle a, b\\rangle\\). Are they orthogonal?  \n",
    "3. Build the **projection** onto \\(u=\\frac{1}{\\sqrt{2}}(1,1)\\) and apply it to \\(x=(2,1)\\).  \n",
    "4. Compute \\(|0\\rangle \\otimes |1\\rangle\\) where \\(|0\\rangle=(1,0)\\), \\(|1\\rangle=(0,1)\\).  \n",
    "5. Check whether \\(U=\\begin{bmatrix}0&1\\\\1&0\\end{bmatrix}\\) (the **X gate**) is unitary.\n"
   ]
  },
  {
   "cell_type": "markdown",
   "id": "8ee37db3",
   "metadata": {},
   "source": [
    "\n",
    "### Solutions\n"
   ]
  },
  {
   "cell_type": "code",
   "execution_count": 11,
   "id": "f80732b6",
   "metadata": {},
   "outputs": [
    {
     "name": "stdout",
     "output_type": "stream",
     "text": [
      "w_unit = [0.6+0.j  0. +0.8j]  ||w_unit|| = (1+0j)\n",
      "<a,b> = 0j   (zero => orthogonal)\n",
      "Projection Px = [1.5 1.5]\n",
      "|0>⊗|1> = [0 1 0 0]\n",
      "X unitary? True\n"
     ]
    }
   ],
   "source": [
    "\n",
    "# 1) Normalize w = (3, 4i)\n",
    "w = np.array([3+0j, 0+4j])\n",
    "w_unit = w / np.sqrt(np.vdot(w,w))\n",
    "print(\"w_unit =\", w_unit, \" ||w_unit|| =\", np.sqrt(np.vdot(w_unit,w_unit)))\n",
    "\n",
    "# 2) Inner product of a and b\n",
    "a = np.array([1+0j, 0+1j])\n",
    "b = np.array([1+0j, 0-1j])\n",
    "print(\"<a,b> =\", np.vdot(a,b), \"  (zero => orthogonal)\")\n",
    "\n",
    "# 3) Projection onto u and apply to x\n",
    "u = (1/np.sqrt(2)) * np.array([1,1], dtype=float)\n",
    "P = np.outer(u,u)  # real example\n",
    "x = np.array([2.0,1.0])\n",
    "print(\"Projection Px =\", P @ x)\n",
    "\n",
    "# 4) Tensor of |0> and |1>\n",
    "zero = np.array([1,0], dtype=int)\n",
    "one = np.array([0,1], dtype=int)\n",
    "print(\"|0>⊗|1> =\", np.kron(zero, one))\n",
    "\n",
    "# 5) Unitarity of X\n",
    "X = np.array([[0,1],[1,0]], dtype=complex)\n",
    "print(\"X unitary?\", np.allclose(X.conj().T @ X, np.eye(2)))\n"
   ]
  },
  {
   "cell_type": "markdown",
   "id": "016ed1e7",
   "metadata": {},
   "source": [
    "\n",
    "---\n",
    "\n",
    "**Next steps:** With these tools, you can confidently read and write the linear algebra that underpins quantum states, measurements, and gates.\n"
   ]
  }
 ],
 "metadata": {
  "kernelspec": {
   "display_name": "quantum",
   "language": "python",
   "name": "python3"
  },
  "language_info": {
   "codemirror_mode": {
    "name": "ipython",
    "version": 3
   },
   "file_extension": ".py",
   "mimetype": "text/x-python",
   "name": "python",
   "nbconvert_exporter": "python",
   "pygments_lexer": "ipython3",
   "version": "3.13.7"
  }
 },
 "nbformat": 4,
 "nbformat_minor": 5
}
