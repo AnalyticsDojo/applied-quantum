{
 "cells": [
  {
   "cell_type": "markdown",
   "id": "84491642",
   "metadata": {},
   "source": [
    "\n",
    "# Linear Algebra Foundations for Quantum Computing — Chapter 1\n",
    "\n",
    "This notebook introduces the **linear algebra** you need for quantum computing.\n",
    "Each concept is explained briefly and **immediately demonstrated in Python** using `numpy`, with math written in **MyST** syntax for Jupyter Book.\n"
   ]
  },
  {
   "cell_type": "markdown",
   "id": "12bdd1a6",
   "metadata": {},
   "source": [
    "\n",
    "## 1. Motivation & Notation\n",
    "\n",
    "Quantum states live in **complex vector spaces** and evolve by **linear (unitary) maps**.  \n",
    "We need fluency with **vectors, matrices, inner products**, and the **tensor product**.\n",
    "\n",
    "**Notations you'll see**\n",
    "- Array notation (Python / math): vectors as column arrays, matrices as 2D arrays.  \n",
    "- Dirac notation: {math}`|v\\rangle` for a column vector (\"ket\"), and {math}`\\langle v|` for its conjugate transpose (\"bra\").  \n",
    "- We’ll use standard Python arrays, with the understanding that a column vector {math}`|v\\rangle` is represented as shape `(n, 1)` or a 1-D array of length `n`.\n"
   ]
  },
  {
   "cell_type": "code",
   "execution_count": null,
   "id": "f13559b1",
   "metadata": {},
   "outputs": [],
   "source": [
    "\n",
    "import numpy as np\n",
    "np.set_printoptions(precision=4, suppress=True)\n"
   ]
  },
  {
   "cell_type": "markdown",
   "id": "cf8c2a11",
   "metadata": {},
   "source": [
    "\n",
    "## 2. Vectors\n",
    "\n",
    "A **vector** is an ordered list of numbers (often complex) arranged in a column.  \n",
    "The **dimension** of a vector space is the length of the coordinate list relative to a basis.\n",
    "\n",
    "- Standard basis of {math}`\\mathbb{C}^n`: {math}`e_1, \\dots, e_n` where {math}`e_i` has a 1 in position {math}`i` and 0 elsewhere.  \n",
    "- The **norm** (length) of {math}`x` is {math}`\\|x\\|_2 = \\sqrt{\\sum_i |x_i|^2}`.  \n",
    "- A **unit vector** has norm 1; **normalization** rescales {math}`x` to {math}`x/\\|x\\|` (if {math}`x \\neq 0`).\n",
    "\n",
    "> **Textbook tip:** In quantum, we typically normalize state vectors to unit length so that total probability is 1.\n"
   ]
  },
  {
   "cell_type": "code",
   "execution_count": null,
   "id": "b2aaa8b0",
   "metadata": {},
   "outputs": [],
   "source": [
    "\n",
    "# Create vectors (1-D) and column vectors (2-D shape n x 1)\n",
    "x = np.array([3, 4], dtype=float)              # 1-D vector in R^2\n",
    "x_col = x.reshape(-1, 1)                        # column form (2,1)\n",
    "e1 = np.array([1, 0], dtype=float)\n",
    "e2 = np.array([0, 1], dtype=float)\n",
    "\n",
    "def l2_norm(v):\n",
    "    v = np.asarray(v).reshape(-1)\n",
    "    return np.sqrt(np.vdot(v, v))  # vdot conjugates the first arg (safe for complex)\n",
    "\n",
    "print(\"x =\", x, \" shape:\", x.shape)\n",
    "print(\"x as column:\\n\", x_col, \" shape:\", x_col.shape)\n",
    "print(\"||x||2 =\", l2_norm(x))\n",
    "print(\"Basis e1, e2 ->\", e1, e2)\n",
    "\n",
    "# Normalize x\n",
    "x_unit = x / l2_norm(x)\n",
    "print(\"Normalized x:\", x_unit, \"||x_unit||2 =\", l2_norm(x_unit))\n"
   ]
  },
  {
   "cell_type": "markdown",
   "id": "8142b017",
   "metadata": {},
   "source": [
    "\n",
    "## 3. Complex Numbers & Conjugation\n",
    "\n",
    "Quantum amplitudes are complex. For {math}`z = a + ib`:\n",
    "\n",
    "- **Conjugate**: {math}`\\overline{z} = a - ib`  \n",
    "- **Modulus**: {math}`|z| = \\sqrt{a^2 + b^2}`  \n",
    "- **Euler**: {math}`re^{i\\theta} = r(\\cos\\theta + i\\sin\\theta)`  \n",
    "\n",
    "For vectors/matrices, the **conjugate transpose** (Hermitian adjoint) is denoted by {math}`(\\cdot)^\\dagger`.\n"
   ]
  },
  {
   "cell_type": "code",
   "execution_count": null,
   "id": "48a4b948",
   "metadata": {},
   "outputs": [],
   "source": [
    "\n",
    "z = 3 + 4j\n",
    "print(\"z =\", z, \"conjugate:\", np.conj(z), \"|z| =\", np.abs(z))\n",
    "\n",
    "# Complex vector\n",
    "v = np.array([1+2j, 2-1j], dtype=complex)\n",
    "print(\"v =\", v)\n",
    "print(\"v* (elementwise conj) =\", v.conj())\n",
    "print(\"v^† (as a row) =\", v.conj().reshape(1,-1))  # bra\n"
   ]
  },
  {
   "cell_type": "markdown",
   "id": "b02532c5",
   "metadata": {},
   "source": [
    "\n",
    "## 4. Vector Dot (Inner) Product\n",
    "\n",
    "For {math}`u, v \\in \\mathbb{C}^n`, the inner product is\n",
    "{math}`\\langle u, v\\rangle = \\sum_i \\overline{u_i}\\, v_i`.\n",
    "\n",
    "Properties:\n",
    "- Conjugate symmetry: {math}`\\langle u, v\\rangle = \\overline{\\langle v, u\\rangle}`  \n",
    "- Linearity in second argument  \n",
    "- {math}`\\langle v, v\\rangle = \\|v\\|^2 \\ge 0`, and equals 0 iff {math}`v = 0`  \n",
    "- **Orthogonality**: {math}`\\langle u, v\\rangle = 0`\n",
    "\n",
    "**Python tips**\n",
    "- `np.vdot(u, v)` computes {math}`\\overline{u}^\\top v` (conjugates the first argument).  \n",
    "- `u @ v` for 1-D arrays computes the Euclidean dot without conjugation; for complex vectors, prefer `np.vdot`.\n"
   ]
  },
  {
   "cell_type": "code",
   "execution_count": null,
   "id": "ec139e1a",
   "metadata": {},
   "outputs": [],
   "source": [
    "\n",
    "u = np.array([1+1j, 0-1j], dtype=complex)\n",
    "v = np.array([2-1j, 3+0j], dtype=complex)\n",
    "\n",
    "print(\"u =\", u)\n",
    "print(\"v =\", v)\n",
    "print(\"<u, v> via vdot =\", np.vdot(u, v))\n",
    "print(\"<v, u> via vdot =\", np.vdot(v, u), \" (conjugate of previous)\")\n",
    "print(\"||u||^2 =\", np.vdot(u,u).real)\n",
    "print(\"Orthogonality check <u, [i*u]> :\", np.vdot(u, 1j*u))  # equals i * ||u||^2, not orthogonal\n"
   ]
  },
  {
   "cell_type": "markdown",
   "id": "1f88ca18",
   "metadata": {},
   "source": [
    "\n",
    "## 5. Matrices\n",
    "\n",
    "A **matrix** represents a linear map. Key notions:\n",
    "- **Identity** {math}`I` satisfies {math}`Ix = x`.  \n",
    "- **Transpose** {math}`A^\\top`, **conjugate** {math}`\\overline{A}`, and **conjugate transpose** (Hermitian adjoint) {math}`A^\\dagger = \\overline{A}^\\top`.  \n",
    "- **Hermitian**: {math}`A = A^\\dagger`.  \n",
    "- **Unitary**: {math}`U^\\dagger U = I` (length-preserving).\n"
   ]
  },
  {
   "cell_type": "code",
   "execution_count": null,
   "id": "a1b78013",
   "metadata": {},
   "outputs": [],
   "source": [
    "\n",
    "A = np.array([[1, 2], [3, 4]], dtype=float)\n",
    "B = np.array([[0, -1j], [1j, 0]], dtype=complex)  # skew-Hermitian example\n",
    "\n",
    "I = np.eye(2)\n",
    "print(\"A =\\n\", A)\n",
    "print(\"A^T =\\n\", A.T)\n",
    "\n",
    "print(\"B =\\n\", B)\n",
    "print(\"B^† =\\n\", B.conj().T)\n",
    "\n",
    "# Hermitian example\n",
    "H = np.array([[2, 1-1j],[1+1j, 3]], dtype=complex)\n",
    "print(\"H Hermitian? ->\", np.allclose(H, H.conj().T))\n",
    "\n",
    "# Unitary example: 2x2 Hadamard (scaled)\n",
    "H2 = (1/np.sqrt(2)) * np.array([[1, 1],[1, -1]], dtype=float)\n",
    "print(\"H2 unitary? ->\", np.allclose(H2.conj().T @ H2, np.eye(2)))\n"
   ]
  },
  {
   "cell_type": "markdown",
   "id": "eb44ca50",
   "metadata": {},
   "source": [
    "\n",
    "## 6. Matrix–Vector & Matrix–Matrix Products\n",
    "\n",
    "- **Matrix–vector**: {math}`y = A x` applies a linear map to a vector.  \n",
    "- **Matrix–matrix**: {math}`C = AB` composes linear maps (first {math}`B`, then {math}`A`).  \n",
    "- **Associativity** holds: {math}`A(Bx) = (AB)x`; **order matters** (in general {math}`AB \\ne BA`).\n"
   ]
  },
  {
   "cell_type": "code",
   "execution_count": null,
   "id": "de0138d2",
   "metadata": {},
   "outputs": [],
   "source": [
    "\n",
    "A = np.array([[2, 0],[0, 3]], dtype=float)  # scales x and y components\n",
    "x = np.array([1, -2], dtype=float)\n",
    "\n",
    "y = A @ x\n",
    "print(\"A =\\n\", A)\n",
    "print(\"x =\", x)\n",
    "print(\"A @ x =\", y)\n",
    "\n",
    "B = np.array([[0, 1],[1, 0]], dtype=float)   # swap matrix\n",
    "print(\"AB =\\n\", A @ B)\n",
    "print(\"BA =\\n\", B @ A)\n",
    "print(\"AB == BA ?\", np.allclose(A@B, B@A))   # generally False\n"
   ]
  },
  {
   "cell_type": "markdown",
   "id": "19e4d728",
   "metadata": {},
   "source": [
    "\n",
    "## 7. Matrix “Dot Product” (Frobenius / Hilbert–Schmidt)\n",
    "\n",
    "The natural inner product on matrices is\n",
    "{math}`\\langle A, B\\rangle_F = \\mathrm{Tr}(A^\\dagger B) = \\sum_{i,j} \\overline{A_{ij}}\\, B_{ij}`.\n",
    "\n",
    "This induces the **Frobenius norm** {math}`\\|A\\|_F = \\sqrt{\\langle A, A\\rangle_F}`.  \n",
    "It generalizes vector dot products and is ubiquitous in quantum (e.g., overlaps, distances).\n",
    "\n",
    "> **Python tip:** `np.vdot(A, B)` flattens and conjugates the first argument, effectively computing the same sum.\n"
   ]
  },
  {
   "cell_type": "code",
   "execution_count": null,
   "id": "7ecb1aae",
   "metadata": {},
   "outputs": [],
   "source": [
    "\n",
    "A = np.array([[1+1j, 2-1j],[0+2j, 3]], dtype=complex)\n",
    "B = np.array([[2, 0-1j],[1+0j, 4-2j]], dtype=complex)\n",
    "\n",
    "fro_vdot = np.vdot(A, B)                         # sum(conj(A)*B) over all entries\n",
    "fro_trace = np.trace(A.conj().T @ B)             # Tr(A^† B)\n",
    "\n",
    "print(\"<A,B>_F via vdot:\", fro_vdot)\n",
    "print(\"<A,B>_F via trace:\", fro_trace)\n",
    "print(\"Equal? ->\", np.allclose(fro_vdot, fro_trace))\n",
    "\n",
    "fro_norm = np.sqrt(np.vdot(A, A).real)\n",
    "print(\"||A||_F =\", fro_norm)\n"
   ]
  },
  {
   "cell_type": "markdown",
   "id": "a9eb4929",
   "metadata": {},
   "source": [
    "\n",
    "## 8. Orthonormal Bases & Projections\n",
    "\n",
    "A set {math}`\\{u_i\\}` is **orthonormal** if {math}`\\langle u_i, u_j\\rangle = \\delta_{ij}`.  \n",
    "The **projection** onto a unit vector {math}`u` is {math}`P = u\\,u^\\dagger`, and {math}`Px` is the component of {math}`x` along {math}`u`.\n",
    "\n",
    "> **Quantum link:** Projectors model ideal measurements onto subspaces.\n"
   ]
  },
  {
   "cell_type": "code",
   "execution_count": null,
   "id": "537fe220",
   "metadata": {},
   "outputs": [],
   "source": [
    "\n",
    "# Build an orthonormal pair in R^2 (Hadamard columns are orthonormal)\n",
    "u = (1/np.sqrt(2)) * np.array([1, 1], dtype=float)\n",
    "v = (1/np.sqrt(2)) * np.array([1,-1], dtype=float)\n",
    "\n",
    "print(\"<u,u> =\", np.vdot(u,u))\n",
    "print(\"<v,v> =\", np.vdot(v,v))\n",
    "print(\"<u,v> =\", np.vdot(u,v))\n",
    "\n",
    "# Projection of x onto u\n",
    "x = np.array([2.0, 1.0])\n",
    "P = np.outer(u, u)    # u u^T because u is real; for complex use u[:,None] @ u[None,:].conj()\n",
    "Px = P @ x\n",
    "\n",
    "print(\"x =\", x)\n",
    "print(\"Projection matrix P = u u^T =\\n\", P)\n",
    "print(\"Projected Px =\", Px)\n"
   ]
  },
  {
   "cell_type": "markdown",
   "id": "407982ea",
   "metadata": {},
   "source": [
    "\n",
    "## 9. Tensor (Kronecker) Product\n",
    "\n",
    "The **tensor product** builds a composite space:  \n",
    "If {math}`x \\in \\mathbb{C}^{m}` and {math}`y \\in \\mathbb{C}^{n}`, then {math}`x \\otimes y \\in \\mathbb{C}^{mn}`.  \n",
    "In quantum, this combines subsystems (e.g., two qubits).\n",
    "\n",
    "- For vectors: basis ordering {math}`|i\\rangle \\otimes |j\\rangle = |ij\\rangle`.  \n",
    "- For matrices: {math}`(A \\otimes B)(x \\otimes y) = (Ax) \\otimes (By)`.\n"
   ]
  },
  {
   "cell_type": "code",
   "execution_count": null,
   "id": "f303286b",
   "metadata": {},
   "outputs": [],
   "source": [
    "\n",
    "# Vector tensor product\n",
    "x = np.array([1, 2], dtype=float)\n",
    "y = np.array([3, 4], dtype=float)\n",
    "x_otimes_y = np.kron(x, y)\n",
    "print(\"x =\", x)\n",
    "print(\"y =\", y)\n",
    "print(\"x ⊗ y =\", x_otimes_y, \" shape:\", x_otimes_y.shape)\n",
    "\n",
    "# Matrix tensor product (useful for multi-qubit gates)\n",
    "H = (1/np.sqrt(2))*np.array([[1,1],[1,-1]], dtype=float)  # Hadamard\n",
    "I = np.eye(2)\n",
    "H2 = np.kron(H, I)  # Apply H to first qubit, identity to second\n",
    "print(\"H ⊗ I =\\n\", H2)\n",
    "\n",
    "# Check (A⊗B)(x⊗y) = (Ax)⊗(By)\n",
    "A = np.array([[0,1],[1,0]], dtype=float)  # X gate\n",
    "B = np.array([[1,0],[0,1]], dtype=float)  # I\n",
    "lhs = np.kron(A,B) @ np.kron([1,0],[1,0])  # (A⊗B)(|0>⊗|0>)\n",
    "rhs = np.kron(A @ np.array([1,0]), B @ np.array([1,0]))\n",
    "print(\"LHS == RHS ?\", np.allclose(lhs, rhs))\n"
   ]
  },
  {
   "cell_type": "markdown",
   "id": "992e1508",
   "metadata": {},
   "source": [
    "\n",
    "## 10. Unitarity & Norm Preservation\n",
    "\n",
    "Unitary matrices preserve inner products and norms: {math}`\\|Ux\\| = \\|x\\|`.  \n",
    "This is essential in quantum mechanics for probability conservation.\n"
   ]
  },
  {
   "cell_type": "code",
   "execution_count": null,
   "id": "c9b76f79",
   "metadata": {},
   "outputs": [],
   "source": [
    "\n",
    "def is_unitary(U, tol=1e-10):\n",
    "    return np.allclose(U.conj().T @ U, np.eye(U.shape[0]), atol=tol)\n",
    "\n",
    "U = (1/np.sqrt(2))*np.array([[1,1],[1,-1]], dtype=complex)  # Hadamard\n",
    "x = np.array([1+1j, 2-1j], dtype=complex)\n",
    "\n",
    "print(\"Is U unitary?\", is_unitary(U))\n",
    "print(\"||x|| =\", np.sqrt(np.vdot(x,x)))\n",
    "print(\"||Ux|| =\", np.sqrt(np.vdot(U@x, U@x)))\n"
   ]
  },
  {
   "cell_type": "markdown",
   "id": "09d4eeee",
   "metadata": {},
   "source": [
    "\n",
    "## 11. Mini-Exercises (with solutions below)\n",
    "\n",
    "1. **Normalize** {math}`w = (3, 4i)` and verify its {math}`\\ell_2` norm is 1.  \n",
    "2. For {math}`a=(1, i)` and {math}`b=(1, -i)`, compute {math}`\\langle a, b\\rangle`. Are they orthogonal?  \n",
    "3. Build the **projection** onto {math}`u=\\frac{1}{\\sqrt{2}}(1,1)` and apply it to {math}`x=(2,1)`.  \n",
    "4. Compute {math}`|0\\rangle \\otimes |1\\rangle` where {math}`|0\\rangle=(1,0)`, {math}`|1\\rangle=(0,1)`.  \n",
    "5. Check whether {math}`U=\\begin{bmatrix}0&1\\\\1&0\\end{bmatrix}` (the **X gate**) is unitary.\n"
   ]
  },
  {
   "cell_type": "markdown",
   "id": "a2a31dbd",
   "metadata": {},
   "source": [
    "\n",
    "### Solutions\n"
   ]
  },
  {
   "cell_type": "code",
   "execution_count": null,
   "id": "fbc82f1d",
   "metadata": {},
   "outputs": [],
   "source": [
    "\n",
    "# 1) Normalize w = (3, 4i)\n",
    "w = np.array([3+0j, 0+4j])\n",
    "w_unit = w / np.sqrt(np.vdot(w,w))\n",
    "print(\"w_unit =\", w_unit, \" ||w_unit|| =\", np.sqrt(np.vdot(w_unit,w_unit)))\n",
    "\n",
    "# 2) Inner product of a and b\n",
    "a = np.array([1+0j, 0+1j])\n",
    "b = np.array([1+0j, 0-1j])\n",
    "print(\"<a,b> =\", np.vdot(a,b), \"  (zero => orthogonal)\")\n",
    "\n",
    "# 3) Projection onto u and apply to x\n",
    "u = (1/np.sqrt(2)) * np.array([1,1], dtype=float)\n",
    "P = np.outer(u,u)  # real example\n",
    "x = np.array([2.0,1.0])\n",
    "print(\"Projection Px =\", P @ x)\n",
    "\n",
    "# 4) Tensor of |0> and |1>\n",
    "zero = np.array([1,0], dtype=int)\n",
    "one = np.array([0,1], dtype=int)\n",
    "print(\"|0>⊗|1> =\", np.kron(zero, one))\n",
    "\n",
    "# 5) Unitarity of X\n",
    "X = np.array([[0,1],[1,0]], dtype=complex)\n",
    "print(\"X unitary?\", np.allclose(X.conj().T @ X, np.eye(2)))\n"
   ]
  },
  {
   "cell_type": "markdown",
   "id": "d5125c92",
   "metadata": {},
   "source": [
    "\n",
    "---\n",
    "\n",
    "**Next steps:** With these tools, you can confidently read and write the linear algebra that underpins quantum states, measurements, and gates.\n"
   ]
  }
 ],
 "metadata": {},
 "nbformat": 4,
 "nbformat_minor": 5
}
