{
  "cells": [
    {
      "cell_type": "markdown",
      "metadata": {},
      "source": [
        "# 🧩 Simulation: Extending the Power of Linear Programming\n",
        "\n",
        "Linear programming gives us **optimal decisions** — but only when the system is *deterministic*.\n",
        "\n",
        "Simulation helps us understand how systems behave when they are **uncertain, random, or dynamic**.\n",
        "\n",
        "---"
      ]
    },
    {
      "cell_type": "markdown",
      "metadata": {},
      "source": [
        "## 🔍 From Optimization to Simulation\n",
        "\n",
        "| Concept | Linear Programming (LP) | Simulation |\n",
        "|----------|-------------------------|-------------|\n",
        "| Purpose | Find the *best* decision (optimum) | Understand *behavior* under uncertainty |\n",
        "| Inputs | Fixed, known coefficients (deterministic) | Random variables and probability distributions |\n",
        "| Output | Optimal solution (e.g., cost, profit) | Distribution of outcomes (e.g., expected cost, risk, variability) |\n",
        "| Examples | Minimum-cost fertilizer mix | Yield or profit under weather uncertainty |\n",
        "\n",
        "**LP** assumes certainty.  \n",
        "**Simulation** explores “what if” variability around those assumptions."
      ]
    },
    {
      "cell_type": "markdown",
      "metadata": {},
      "source": [
        "## 🧮 When LP Meets Reality\n",
        "\n",
        "Linear Programming assumes:\n",
        "- Constraints and coefficients are exact.\n",
        "- Relationships are linear.\n",
        "- Decisions are static (one-time).\n",
        "\n",
        "But real systems often involve:\n",
        "- Random demand, prices, or yields.\n",
        "- Variable processing times or equipment failure.\n",
        "- Dynamic changes over time.\n",
        "\n",
        "➡️ **Simulation complements LP** by testing how your “optimal” plan performs under real-world uncertainty."
      ]
    },
    {
      "cell_type": "markdown",
      "metadata": {},
      "source": [
        "## 🎲 A Simple Example\n",
        "\n",
        "Imagine your LP solution told you to plant 8 acres of Crop-Quick fertilizer.\n",
        "\n",
        "But:\n",
        "- Weather affects yield.\n",
        "- Water availability fluctuates.\n",
        "- Labor availability varies week-to-week.\n",
        "\n",
        "A **simulation** could:\n",
        "1. Treat rainfall and yield as random variables.  \n",
        "2. Re-run the system many times.  \n",
        "3. Estimate the **expected cost**, **average yield**, and **risk** (e.g., probability of shortfall).\n",
        "\n",
        "→ LP gives the *plan*, simulation tells you *how risky* that plan is."
      ]
    },
    {
      "cell_type": "markdown",
      "metadata": {},
      "source": [
        "## 🧠 Conceptual Relationship\n",
        "\n",
        "1. **Optimization (LP)** → assumes known inputs, gives one “best” solution.\n",
        "2. **Simulation** → samples random inputs, observes resulting performance.\n",
        "3. **Integration** → run LP *inside* simulation or simulate multiple LP results.\n",
        "\n",
        "| Approach | Description | Example |\n",
        "|-----------|-------------|----------|\n",
        "| Simulation after optimization | Test how the LP solution performs under random conditions | Fertilizer plan tested under random rainfall |\n",
        "| Optimization inside simulation | Adjust decisions adaptively as randomness unfolds | Re-allocate resources based on simulated yields |\n",
        "\n",
        "---"
      ]
    },
    {
      "cell_type": "markdown",
      "metadata": {},
      "source": [
        "## ⚙️ Monte Carlo Simulation\n",
        "\n",
        "A popular simulation technique:\n",
        "1. Define random variables (e.g., rainfall, price, demand).  \n",
        "2. Generate many random samples (scenarios).  \n",
        "3. Compute outcome for each sample.  \n",
        "4. Analyze distribution of results.\n",
        "\n",
        "Example:  \n",
        "```python\n",
        "import numpy as np\n",
        "rainfall = np.random.normal(30, 5, 10000)  # 10,000 random rainfalls\n",
        "yield_est = 0.8 * rainfall - 2             # simplified yield model"
      ]
    },
    {
      "cell_type": "markdown",
      "metadata": {},
      "source": [
        "---\n",
        "\n",
        "```markdown\n",
        "## 📊 LP vs Simulation in Decision-Making\n",
        "\n",
        "| Question | LP | Simulation |\n",
        "|-----------|----|-------------|\n",
        "| What is the best solution? | ✅ Yes | ⚪ Not directly |\n",
        "| How does the system perform under uncertainty? | ⚪ No | ✅ Yes |\n",
        "| Can it handle randomness, time, and queues? | ⚪ Limited | ✅ Yes |\n",
        "| Does it find an optimal answer? | ✅ | ⚪ Not necessarily |\n",
        "\n",
        "👉 **Together**, LP and simulation form a powerful toolkit:\n",
        "- LP **optimizes**.\n",
        "- Simulation **tests robustness**."
      ]
    },
    {
      "cell_type": "markdown",
      "metadata": {
        "id": "mT-CwQ3r6cHI"
      },
      "source": [
        "# Let's Make a Deal!  The Monty Hall problem.  \n",
        "\n",
        "See more [here](https://math.ucsd.edu/~crypto/Monty/monty.html) and [wikipedia](https://simple.wikipedia.org/wiki/Monty_Hall_problem)"
      ]
    },
    {
      "cell_type": "markdown",
      "metadata": {},
      "source": [
        "## 🚪 The Monty Hall Problem — A Classic Simulation Example\n",
        "\n",
        "The **Monty Hall problem** is a famous probability puzzle that beautifully demonstrates how simulation can help us reason about uncertainty and counterintuitive outcomes.\n",
        "\n",
        "---\n",
        "\n",
        "### 🎯 The Setup\n",
        "\n",
        "Imagine you are on a game show, faced with **three doors**:\n",
        "\n",
        "- Behind **one door** is a **car** (the prize 🏆).\n",
        "- Behind the **other two doors** are **goats** 🐐🐐.\n",
        "\n",
        "The game goes like this:\n",
        "\n",
        "1. You choose one of the three doors (say, Door 1).  \n",
        "2. The host, **Monty Hall**, who knows what’s behind each door, opens **another door** — always one with a goat.  \n",
        "3. You are then given a choice:  \n",
        "   👉 **Stay** with your original door, or  \n",
        "   🔄 **Switch** to the remaining unopened door.\n",
        "\n",
        "**Question:**  \n",
        "Should you stay or switch to maximize your chances of winning the car?\n",
        "\n"
      ]
    },
    {
      "cell_type": "code",
      "execution_count": null,
      "metadata": {
        "id": "6aLCoxsN6-rH"
      },
      "outputs": [],
      "source": [
        "def monty_hall(strategy, quiet=False):\n",
        "    \"\"\"\n",
        "    Function to implemnent the monty hall choice for a strategy\n",
        "    Arguments:\n",
        "    strategy:  stay, switch, or random are 3 potential strategies\n",
        "    quiet: determines if it prints all the details.\n",
        "\n",
        "    \"\"\"\n",
        "\n",
        "    if quiet==False: print(\"My strategy is \", strategy)\n",
        "\n",
        "    import numpy as np\n",
        "\n",
        "    doors = ['goat', 'goat', 'prize']\n",
        "\n",
        "    choices_orig= ['door #1', 'door #2', 'door #3']\n",
        "    choices= choices_orig.copy()\n",
        "\n",
        "    #Create the random set of the world\n",
        "    doors_rand= np.random.choice(doors, 3, replace=False)\n",
        "\n",
        "    if quiet==False: print(\"Hey contestent, why don't you choose a door.\")\n",
        "\n",
        "    prizes = dict(zip(choices_orig, doors_rand))\n",
        "    if quiet==False: print(\"the state of the world is \", prizes)\n",
        "\n",
        "    #my choices\n",
        "    my_choice= np.random.choice(choices, 1, replace=False)\n",
        "\n",
        "    if quiet==False: print(\"Hey Monty, I pick\", my_choice)\n",
        "    choices.remove(my_choice)\n",
        "\n",
        "    #If you chose the prize, randomly remove one of the others.\n",
        "    if prizes[my_choice[0]]=='prize':\n",
        "        monty_remove= np.random.choice(choices, 1, replace=False)\n",
        "    else:\n",
        "        monty_remove=[x for x in choices if prizes[x]=='goat']\n",
        "\n",
        "    if quiet==False: print(\"Great, now let's remove \",  monty_remove)\n",
        "    #remove one prize\n",
        "    choices.remove(monty_remove[0])\n",
        "\n",
        "\n",
        "    if quiet==False: print(\"Now contestant, do you want to stay on\", my_choice, \"or switch to\", choices)\n",
        "\n",
        "    if strategy == 'random':\n",
        "        strategy= np.random.choice(['stay','switch'], 1, replace=False)\n",
        "\n",
        "    if strategy == 'stay':\n",
        "        if quiet==False: print(\"Monty, I want to stay with \", my_choice )\n",
        "        if quiet==False: print(\"Ok contestant, you are going to stay with\", my_choice )\n",
        "        choice_index=choices_orig.index(my_choice)\n",
        "\n",
        "\n",
        "    elif strategy == 'switch':\n",
        "        if quiet==False: print(\"Monty, I want to switch to \", choices )\n",
        "        if quiet==False: print(\"Ok contestant, you are going switch to\", choices)\n",
        "        choice_index=choices_orig.index(choices[0])\n",
        "\n",
        "    if  doors_rand[choice_index]=='prize':\n",
        "        if quiet==False: print(\"You won!!!!\")\n",
        "        won = 1\n",
        "    else:\n",
        "        if quiet==False: print(\"Better buy some hay for the goat!!!!\")\n",
        "        won = 0\n",
        "\n",
        "    return won\n",
        "\n",
        "\n"
      ]
    },
    {
      "cell_type": "markdown",
      "metadata": {
        "id": "v0VKpKunDWl2"
      },
      "source": [
        "## You can do 3 different strategies.\n",
        "1. `switch` - Switch from one door to the other.\n",
        "\n",
        "2. `stay` - Stay on the same.\n",
        "\n",
        "3. `random`\n",
        "You can do 3 strate"
      ]
    },
    {
      "cell_type": "code",
      "execution_count": null,
      "metadata": {
        "colab": {
          "base_uri": "https://localhost:8080/"
        },
        "id": "LjIXaKAqDVSu",
        "outputId": "a30b24ff-e247-4dab-bdd6-15d50ef52d03"
      },
      "outputs": [
        {
          "name": "stdout",
          "output_type": "stream",
          "text": [
            "My strategy is  random\n",
            "Hey contestent, why don't you choose a door.\n",
            "the state of the world is  {'door #1': 'goat', 'door #2': 'prize', 'door #3': 'goat'}\n",
            "Hey Monty, I pick ['door #2']\n",
            "Great, now let's remove  ['door #3']\n",
            "Now contestant, do you want to stay on ['door #2'] or switch to ['door #1']\n",
            "Monty, I want to switch to  ['door #1']\n",
            "Ok contestant, you are going switch to ['door #1']\n",
            "Better buy some hay for the goat!!!!\n"
          ]
        }
      ],
      "source": [
        "strategy = 'random'\n",
        "result = monty_hall(strategy, quiet=False)"
      ]
    },
    {
      "cell_type": "markdown",
      "metadata": {
        "id": "GKi9vpjLEQuG"
      },
      "source": [
        "# Play 10000 Times!"
      ]
    },
    {
      "cell_type": "code",
      "execution_count": null,
      "metadata": {
        "colab": {
          "base_uri": "https://localhost:8080/"
        },
        "id": "R5JYwSO-4DdP",
        "outputId": "fac14db6-0f67-4c7a-9001-c25f6f62b9be"
      },
      "outputs": [
        {
          "name": "stdout",
          "output_type": "stream",
          "text": [
            "You played  10000  times with a strategy  switch\n",
            "You won  6594  times ( 65.94  %)\n"
          ]
        }
      ],
      "source": [
        "n=10000\n",
        "won = 0\n",
        "\n",
        "strategy = 'switch'\n",
        "\n",
        "for i in range(n):\n",
        "    result= monty_hall(strategy, quiet=True)\n",
        "    won+=result\n",
        "\n",
        "print(\"You played \", n, \" times with a strategy \", strategy)\n",
        "win_percent = won/n*100\n",
        "print(\"You won \", won, \" times (\",win_percent,\" %)\" )\n"
      ]
    },
    {
      "cell_type": "code",
      "execution_count": null,
      "metadata": {
        "colab": {
          "base_uri": "https://localhost:8080/"
        },
        "id": "cNTEXQjzhk48",
        "outputId": "ac1ea36a-4b5c-45aa-c921-0eff1d572245"
      },
      "outputs": [
        {
          "name": "stdout",
          "output_type": "stream",
          "text": [
            "You played  10000  times with a strategy  stay\n",
            "You won  3389  times ( 33.89  % )\n"
          ]
        }
      ],
      "source": [
        "n=10000\n",
        "won = 0\n",
        "\n",
        "strategy = 'stay'\n",
        "\n",
        "for i in range(n):\n",
        "    result= monty_hall(strategy, quiet=True)\n",
        "    won+=result\n",
        "\n",
        "print(\"You played \", n, \" times with a strategy \", strategy)\n",
        "win_percent = won/n*100\n",
        "print(\"You won \", won, \" times (\",win_percent,\" % )\" )\n",
        "\n"
      ]
    },
    {
      "cell_type": "code",
      "execution_count": null,
      "metadata": {
        "colab": {
          "base_uri": "https://localhost:8080/"
        },
        "id": "zVpnFxGdlfO8",
        "outputId": "fb123749-25e3-4330-ba8e-4cf106cd5862"
      },
      "outputs": [
        {
          "name": "stdout",
          "output_type": "stream",
          "text": [
            "You played  10000  times with a strategy  random\n",
            "You won  4976  times ( 49.76 % )\n"
          ]
        }
      ],
      "source": [
        "n=10000\n",
        "won = 0\n",
        "\n",
        "strategy = 'random'\n",
        "\n",
        "for i in range(n):\n",
        "    result= monty_hall(strategy, quiet=True)\n",
        "    won+=result\n",
        "\n",
        "print(\"You played \", n, \" times with a strategy \", strategy)\n",
        "win_percent = won/n*100\n",
        "print(\"You won \", won, \" times (\",win_percent,\"% )\" )\n",
        "\n",
        "\n"
      ]
    },
    {
      "cell_type": "markdown",
      "metadata": {},
      "source": [
        "---\n",
        "\n",
        "### 🧠 Analytical Solution\n",
        "\n",
        "At first glance, it seems like there are two doors left, so the odds should be 50/50.  \n",
        "But that intuition is **wrong**.\n",
        "\n",
        "Let’s reason it out:\n",
        "\n",
        "- Probability that your first choice was correct = **1/3**  \n",
        "- Probability that your first choice was wrong = **2/3**\n",
        "\n",
        "If you **switch**, you win **whenever your first choice was wrong**,  \n",
        "so your chance of winning = **2/3**.\n",
        "\n",
        "If you **stay**, you win only if your first choice was correct,  \n",
        "so your chance of winning = **1/3**.\n",
        "\n",
        "✅ **Conclusion:** You should **always switch** — it doubles your chance of winning.\n",
        "\n",
        "---\n"
      ]
    }
  ],
  "metadata": {
    "colab": {
      "provenance": []
    },
    "kernelspec": {
      "display_name": "Python 3",
      "name": "python3"
    }
  },
  "nbformat": 4,
  "nbformat_minor": 0
}
